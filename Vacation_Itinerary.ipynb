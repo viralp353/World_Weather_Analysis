{
 "cells": [
  {
   "cell_type": "markdown",
   "metadata": {},
   "source": [
    "# Create a Travel Itinerary with a Corresponding Map"
   ]
  },
  {
   "cell_type": "code",
   "execution_count": 11,
   "metadata": {},
   "outputs": [],
   "source": [
    "# Import the dependencies.\n",
    "import pandas as pd\n",
    "import numpy as np\n",
    "import gmaps\n",
    "import gmaps.datasets\n",
    "import requests\n",
    "# Import the API key.\n",
    "from config import g_key"
   ]
  },
  {
   "cell_type": "code",
   "execution_count": 2,
   "metadata": {},
   "outputs": [],
   "source": [
    "#impport csv files\n",
    "new_df=pd.read_csv(\"weather_data/WeatherPy_vacation.csv\")"
   ]
  },
  {
   "cell_type": "code",
   "execution_count": 3,
   "metadata": {},
   "outputs": [
    {
     "data": {
      "text/html": [
       "<div>\n",
       "<style scoped>\n",
       "    .dataframe tbody tr th:only-of-type {\n",
       "        vertical-align: middle;\n",
       "    }\n",
       "\n",
       "    .dataframe tbody tr th {\n",
       "        vertical-align: top;\n",
       "    }\n",
       "\n",
       "    .dataframe thead th {\n",
       "        text-align: right;\n",
       "    }\n",
       "</style>\n",
       "<table border=\"1\" class=\"dataframe\">\n",
       "  <thead>\n",
       "    <tr style=\"text-align: right;\">\n",
       "      <th></th>\n",
       "      <th>City_ID</th>\n",
       "      <th>City</th>\n",
       "      <th>Country</th>\n",
       "      <th>Current Description</th>\n",
       "      <th>Max Temp</th>\n",
       "      <th>Lat</th>\n",
       "      <th>Lng</th>\n",
       "      <th>Hotel Name</th>\n",
       "    </tr>\n",
       "  </thead>\n",
       "  <tbody>\n",
       "    <tr>\n",
       "      <th>0</th>\n",
       "      <td>0</td>\n",
       "      <td>Bambous Virieux</td>\n",
       "      <td>MU</td>\n",
       "      <td>shower rain</td>\n",
       "      <td>72.00</td>\n",
       "      <td>-20.34</td>\n",
       "      <td>57.76</td>\n",
       "      <td>Casa Tia Villa</td>\n",
       "    </tr>\n",
       "    <tr>\n",
       "      <th>1</th>\n",
       "      <td>1</td>\n",
       "      <td>Castro</td>\n",
       "      <td>BR</td>\n",
       "      <td>scattered clouds</td>\n",
       "      <td>69.67</td>\n",
       "      <td>-24.79</td>\n",
       "      <td>-50.01</td>\n",
       "      <td>CHACARA BAILLY</td>\n",
       "    </tr>\n",
       "    <tr>\n",
       "      <th>2</th>\n",
       "      <td>2</td>\n",
       "      <td>San Fernando</td>\n",
       "      <td>PH</td>\n",
       "      <td>broken clouds</td>\n",
       "      <td>80.60</td>\n",
       "      <td>15.03</td>\n",
       "      <td>120.69</td>\n",
       "      <td>Sky Hotel</td>\n",
       "    </tr>\n",
       "    <tr>\n",
       "      <th>3</th>\n",
       "      <td>3</td>\n",
       "      <td>Gbarnga</td>\n",
       "      <td>LR</td>\n",
       "      <td>light rain</td>\n",
       "      <td>76.84</td>\n",
       "      <td>7.00</td>\n",
       "      <td>-9.47</td>\n",
       "      <td>Passion Hotel 2</td>\n",
       "    </tr>\n",
       "    <tr>\n",
       "      <th>4</th>\n",
       "      <td>4</td>\n",
       "      <td>Nanortalik</td>\n",
       "      <td>GL</td>\n",
       "      <td>overcast clouds</td>\n",
       "      <td>44.58</td>\n",
       "      <td>60.14</td>\n",
       "      <td>-45.24</td>\n",
       "      <td>NTS Rooms, Nanortalik</td>\n",
       "    </tr>\n",
       "  </tbody>\n",
       "</table>\n",
       "</div>"
      ],
      "text/plain": [
       "   City_ID             City Country Current Description  Max Temp    Lat  \\\n",
       "0        0  Bambous Virieux      MU         shower rain     72.00 -20.34   \n",
       "1        1           Castro      BR    scattered clouds     69.67 -24.79   \n",
       "2        2     San Fernando      PH       broken clouds     80.60  15.03   \n",
       "3        3          Gbarnga      LR          light rain     76.84   7.00   \n",
       "4        4       Nanortalik      GL     overcast clouds     44.58  60.14   \n",
       "\n",
       "      Lng             Hotel Name  \n",
       "0   57.76         Casa Tia Villa  \n",
       "1  -50.01         CHACARA BAILLY  \n",
       "2  120.69              Sky Hotel  \n",
       "3   -9.47        Passion Hotel 2  \n",
       "4  -45.24  NTS Rooms, Nanortalik  "
      ]
     },
     "execution_count": 3,
     "metadata": {},
     "output_type": "execute_result"
    }
   ],
   "source": [
    "new_df.head()"
   ]
  },
  {
   "cell_type": "markdown",
   "metadata": {},
   "source": [
    "# four cities are Mayo,Raton,Sunland Park,Lamar"
   ]
  },
  {
   "cell_type": "code",
   "execution_count": 4,
   "metadata": {},
   "outputs": [],
   "source": [
    "#Create separate DataFrames for each city on the travel route, using the loc attribute:\n",
    "#get the latitude-longitude pairs for each city DataFrame as tuples:\n",
    "\n",
    "Mayo_df = new_df.loc[(new_df[\"City\"]==\"Mayo\")] \n",
    "Mayo = tuple(Mayo_df.to_numpy()[0][5:7])\n",
    "\n",
    "Raton_df = new_df.loc[(new_df[\"City\"]==\"Raton\")]\n",
    "Raton = tuple(Raton_df.to_numpy()[0][5:7])\n",
    "\n",
    "Sunland_Park_df = new_df.loc[(new_df[\"City\"]==\"Sunland Park\")] \n",
    "Sunland_Park= tuple(Sunland_Park_df.to_numpy()[0][5:7])\n",
    "\n",
    "Lamar_df = new_df.loc[(new_df[\"City\"]==\"Lamar\")] \n",
    "Lamar = tuple(Lamar_df.to_numpy()[0][5:7])"
   ]
  },
  {
   "cell_type": "code",
   "execution_count": 12,
   "metadata": {},
   "outputs": [
    {
     "data": {
      "application/vnd.jupyter.widget-view+json": {
       "model_id": "c37aee007f044f1e83d09b4e095f4885",
       "version_major": 2,
       "version_minor": 0
      },
      "text/plain": [
       "Figure(layout=FigureLayout(height='420px'))"
      ]
     },
     "metadata": {},
     "output_type": "display_data"
    }
   ],
   "source": [
    "#For the travel_mode\"\n",
    "#set api key for gmaps\"\n",
    "gmaps.configure(api_key=g_key)\n",
    "\n",
    "fig = gmaps.figure()\n",
    "\n",
    "# set  vacation itinerary\n",
    "Vacation_Itinerary = gmaps.directions_layer(Mayo,Lamar, waypoints=[Raton,Sunland_Park],travel_mode='DRIVING')\n",
    "\n",
    "# add itinerary top map\n",
    "fig.add_layer(Vacation_Itinerary)\n",
    "\n",
    "# show map\n",
    "fig"
   ]
  },
  {
   "cell_type": "code",
   "execution_count": 13,
   "metadata": {},
   "outputs": [
    {
     "data": {
      "text/html": [
       "<div>\n",
       "<style scoped>\n",
       "    .dataframe tbody tr th:only-of-type {\n",
       "        vertical-align: middle;\n",
       "    }\n",
       "\n",
       "    .dataframe tbody tr th {\n",
       "        vertical-align: top;\n",
       "    }\n",
       "\n",
       "    .dataframe thead th {\n",
       "        text-align: right;\n",
       "    }\n",
       "</style>\n",
       "<table border=\"1\" class=\"dataframe\">\n",
       "  <thead>\n",
       "    <tr style=\"text-align: right;\">\n",
       "      <th></th>\n",
       "      <th>City_ID</th>\n",
       "      <th>City</th>\n",
       "      <th>Country</th>\n",
       "      <th>Current Description</th>\n",
       "      <th>Max Temp</th>\n",
       "      <th>Lat</th>\n",
       "      <th>Lng</th>\n",
       "      <th>Hotel Name</th>\n",
       "    </tr>\n",
       "  </thead>\n",
       "  <tbody>\n",
       "    <tr>\n",
       "      <th>408</th>\n",
       "      <td>408</td>\n",
       "      <td>Mayo</td>\n",
       "      <td>US</td>\n",
       "      <td>clear sky</td>\n",
       "      <td>86.00</td>\n",
       "      <td>38.89</td>\n",
       "      <td>-76.51</td>\n",
       "      <td>Resorts Resource Group International</td>\n",
       "    </tr>\n",
       "    <tr>\n",
       "      <th>382</th>\n",
       "      <td>382</td>\n",
       "      <td>Raton</td>\n",
       "      <td>US</td>\n",
       "      <td>clear sky</td>\n",
       "      <td>82.40</td>\n",
       "      <td>36.90</td>\n",
       "      <td>-104.44</td>\n",
       "      <td>Holiday Inn Express &amp; Suites Raton</td>\n",
       "    </tr>\n",
       "    <tr>\n",
       "      <th>129</th>\n",
       "      <td>129</td>\n",
       "      <td>Sunland Park</td>\n",
       "      <td>US</td>\n",
       "      <td>few clouds</td>\n",
       "      <td>93.00</td>\n",
       "      <td>31.80</td>\n",
       "      <td>-106.58</td>\n",
       "      <td>SpringHill Suites by Marriott El Paso</td>\n",
       "    </tr>\n",
       "    <tr>\n",
       "      <th>557</th>\n",
       "      <td>557</td>\n",
       "      <td>Lamar</td>\n",
       "      <td>US</td>\n",
       "      <td>clear sky</td>\n",
       "      <td>89.01</td>\n",
       "      <td>33.67</td>\n",
       "      <td>-95.58</td>\n",
       "      <td>Kings Inn Paris TX</td>\n",
       "    </tr>\n",
       "  </tbody>\n",
       "</table>\n",
       "</div>"
      ],
      "text/plain": [
       "     City_ID          City Country Current Description  Max Temp    Lat  \\\n",
       "408      408          Mayo      US           clear sky     86.00  38.89   \n",
       "382      382         Raton      US           clear sky     82.40  36.90   \n",
       "129      129  Sunland Park      US          few clouds     93.00  31.80   \n",
       "557      557         Lamar      US           clear sky     89.01  33.67   \n",
       "\n",
       "        Lng                             Hotel Name  \n",
       "408  -76.51   Resorts Resource Group International  \n",
       "382 -104.44     Holiday Inn Express & Suites Raton  \n",
       "129 -106.58  SpringHill Suites by Marriott El Paso  \n",
       "557  -95.58                     Kings Inn Paris TX  "
      ]
     },
     "execution_count": 13,
     "metadata": {},
     "output_type": "execute_result"
    }
   ],
   "source": [
    "#  Single data frame for all city:\n",
    "route_df = pd.concat([Mayo_df,Raton_df,Sunland_Park_df,Lamar_df])\n",
    "route_df"
   ]
  },
  {
   "cell_type": "code",
   "execution_count": 7,
   "metadata": {},
   "outputs": [],
   "source": [
    "info_box_template = \"\"\"\n",
    "<dl>\n",
    "<dt>Hotel Name</dt><dd>{Hotel Name}</dd>\n",
    "<dt>City</dt><dd>{City}</dd>\n",
    "<dt>Country</dt><dd>{Country}</dd>\n",
    "<dt>Current Weather</dt><dd>{Current Description}</dd>  and {Max Temp} °F</dd></dl>\n",
    "\n",
    "</dl>\n",
    "\"\"\""
   ]
  },
  {
   "cell_type": "code",
   "execution_count": 8,
   "metadata": {},
   "outputs": [],
   "source": [
    "# Store the DataFrame Row.\n",
    "hotel_info = [info_box_template.format(**row) for index, row in route_df.iterrows()]"
   ]
  },
  {
   "cell_type": "code",
   "execution_count": 14,
   "metadata": {
    "scrolled": true
   },
   "outputs": [
    {
     "data": {
      "application/vnd.jupyter.widget-view+json": {
       "model_id": "dd60cbad2c884644a11a97fed1d80841",
       "version_major": 2,
       "version_minor": 0
      },
      "text/plain": [
       "Figure(layout=FigureLayout(height='420px'))"
      ]
     },
     "metadata": {},
     "output_type": "display_data"
    }
   ],
   "source": [
    "# The pop-up marker for each city in the vacation itinerary:\n",
    "locations = route_df[[\"Lat\", \"Lng\"]]\n",
    "fig = gmaps.figure(center=(30.0, 31.0), zoom_level=1.0)\n",
    "marker_layer = gmaps.marker_layer(locations, info_box_content=hotel_info)\n",
    "fig.add_layer(marker_layer)\n",
    "\n",
    "# Call the figure to plot the data.\n",
    "fig"
   ]
  }
 ],
 "metadata": {
  "kernelspec": {
   "display_name": "PythonData",
   "language": "python",
   "name": "pythondata"
  },
  "language_info": {
   "codemirror_mode": {
    "name": "ipython",
    "version": 3
   },
   "file_extension": ".py",
   "mimetype": "text/x-python",
   "name": "python",
   "nbconvert_exporter": "python",
   "pygments_lexer": "ipython3",
   "version": "3.8.3"
  }
 },
 "nbformat": 4,
 "nbformat_minor": 4
}
